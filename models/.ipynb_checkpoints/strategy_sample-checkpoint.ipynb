{
 "cells": [
  {
   "cell_type": "code",
   "execution_count": 3,
   "id": "a863153f",
   "metadata": {},
   "outputs": [],
   "source": [
    "from abc import ABCMeta, abstractmethod"
   ]
  },
  {
   "cell_type": "code",
   "execution_count": 8,
   "id": "0d99f80b",
   "metadata": {},
   "outputs": [],
   "source": [
    "class Context():\n",
    "    \n",
    "    @staticmethod\n",
    "    def request(strategy):\n",
    "        return strategy()\n",
    "    \n",
    "class IStrategy(metaclass=ABCMeta):\n",
    "    \n",
    "    @staticmethod\n",
    "    @abstractmethod\n",
    "    def __str__():\n",
    "        \"\"\" to be implemented \"\"\"\n",
    "        pass\n",
    "    \n",
    "    @staticmethod\n",
    "    @abstractmethod\n",
    "    def generate_samples():\n",
    "        \"\"\" to be implemented \"\"\"\n",
    "        pass\n",
    "    \n",
    "class OneItemGenerator(IStrategy):\n",
    "    \n",
    "    def __str__(self):\n",
    "        return \"OneItemGenerator\"\n",
    "    \n",
    "    \n",
    "    def generate_samples(self):\n",
    "        samples, meta = [\"one sample\"], {}\n",
    "        return samples, meta\n",
    "    \n",
    "class TwoItemsGenerator(IStrategy):\n",
    "    \n",
    "    def __str__(self):\n",
    "        return \"TwoItemsGenerator\"\n",
    "    \n",
    "    def generate_samples(self):\n",
    "        samples, meta = [\"2 samples\"], {}\n",
    "        return samples, meta\n",
    "    \n",
    "    \n",
    "class ThreeItemsGenerator(IStrategy):\n",
    "    \n",
    "    def __str__(self):\n",
    "        return \"ThreeItemsGenerator\"\n",
    "    \n",
    "    def generate_samples(self):\n",
    "        samples, meta = [\"3 samples\"], {}\n",
    "        return samples, meta\n",
    "\n",
    "class FourItemsGenerator(IStrategy):\n",
    "    \n",
    "    def __str__(self):\n",
    "        return \"FourItemsGenerator\"\n",
    "    \n",
    "    def generate_samples(self):\n",
    "        samples, meta = [\"4 samples\"], {}\n",
    "        return samples, meta\n",
    "    \n",
    "class MultipleItemsGenerator(IStrategy):\n",
    "    \n",
    "    def __str__(self):\n",
    "        return \"FourItemsGenerator\"\n",
    "\n",
    "    def generate_samples(self):\n",
    "        samples, meta = [\"many samples\"], {}\n",
    "        return samples, meta"
   ]
  },
  {
   "cell_type": "code",
   "execution_count": 9,
   "id": "42fd763e",
   "metadata": {},
   "outputs": [
    {
     "name": "stdout",
     "output_type": "stream",
     "text": [
      "(['one sample'], {})\n",
      "(['2 samples'], {})\n",
      "(['many samples'], {})\n"
     ]
    }
   ],
   "source": [
    "CONTEXT = Context()\n",
    "print(CONTEXT.request(OneItemGenerator).generate_samples())\n",
    "print(CONTEXT.request(TwoItemsGenerator).generate_samples())\n",
    "print(CONTEXT.request(MultipleItemsGenerator).generate_samples())"
   ]
  },
  {
   "cell_type": "code",
   "execution_count": null,
   "id": "6c00a7af",
   "metadata": {},
   "outputs": [],
   "source": []
  },
  {
   "cell_type": "code",
   "execution_count": null,
   "id": "1dbe284a",
   "metadata": {},
   "outputs": [],
   "source": []
  },
  {
   "cell_type": "code",
   "execution_count": null,
   "id": "c37cabc7",
   "metadata": {},
   "outputs": [],
   "source": []
  },
  {
   "cell_type": "code",
   "execution_count": null,
   "id": "fb27a693",
   "metadata": {},
   "outputs": [],
   "source": []
  }
 ],
 "metadata": {
  "kernelspec": {
   "display_name": "Python 3 (ipykernel)",
   "language": "python",
   "name": "python3"
  },
  "language_info": {
   "codemirror_mode": {
    "name": "ipython",
    "version": 3
   },
   "file_extension": ".py",
   "mimetype": "text/x-python",
   "name": "python",
   "nbconvert_exporter": "python",
   "pygments_lexer": "ipython3",
   "version": "3.9.12"
  }
 },
 "nbformat": 4,
 "nbformat_minor": 5
}
